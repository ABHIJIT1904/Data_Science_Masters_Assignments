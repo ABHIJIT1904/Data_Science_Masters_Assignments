{
 "cells": [
  {
   "cell_type": "raw",
   "id": "b3fc05f9",
   "metadata": {},
   "source": [
    "30th Assignment"
   ]
  },
  {
   "cell_type": "raw",
   "id": "4bf81fcf",
   "metadata": {},
   "source": [
    "Q1:Write a program to accept percentage from the user and display the grade according to the following criteria"
   ]
  },
  {
   "cell_type": "code",
   "execution_count": 15,
   "id": "b7ea4ebd",
   "metadata": {},
   "outputs": [
    {
     "name": "stdout",
     "output_type": "stream",
     "text": [
      "Enter Your Percentage78\n",
      "Grade C\n"
     ]
    }
   ],
   "source": [
    "percentage = int(input(\"Enter Your Percentage\"))\n",
    "\n",
    "if percentage > 90:\n",
    "    print(\"Grade A\")\n",
    "elif percentage >80 and percentage <=90:\n",
    "    print(\"Grade B\")\n",
    "elif percentage >=60 and percentage <=80:\n",
    "    print(\"Grade C\")\n",
    "else:\n",
    "    print(\"Grade D\")"
   ]
  },
  {
   "cell_type": "raw",
   "id": "294a3438",
   "metadata": {},
   "source": [
    "Q2:Write a program to accept the cost price of a bike and display the road tax to be paid according to the following criteria:"
   ]
  },
  {
   "cell_type": "code",
   "execution_count": 16,
   "id": "c78d8982",
   "metadata": {},
   "outputs": [
    {
     "name": "stdout",
     "output_type": "stream",
     "text": [
      "Enter The Cost Of Your Bike: 120000\n",
      "You Have To Pay 15% Tax\n"
     ]
    }
   ],
   "source": [
    "cost = int(input(\"Enter The Cost Of Your Bike: \"))\n",
    "\n",
    "if cost > 100000:\n",
    "    print(\"You Have To Pay 15% Tax\")\n",
    "elif cost >50000 and cost <= 100000:\n",
    "    print(\"You Have To Pay 10% Tax\")\n",
    "else:\n",
    "    print(\"You Have To Pay 5% Tax\")"
   ]
  },
  {
   "cell_type": "raw",
   "id": "ef6d82d1",
   "metadata": {},
   "source": [
    "Q3: Accept any city from the user and display monuments of that city."
   ]
  },
  {
   "cell_type": "code",
   "execution_count": 17,
   "id": "1e664f8f",
   "metadata": {},
   "outputs": [
    {
     "name": "stdout",
     "output_type": "stream",
     "text": [
      "Enter Your City From Delhi, Agra or Jaipur And Get Your City's Monument: agra\n",
      "You Have Not Entered City From The List Given.\n"
     ]
    }
   ],
   "source": [
    "city = input(\"Enter Your City From Delhi, Agra or Jaipur And Get Your City's Monument: \")\n",
    "\n",
    "if city == \"Delhi\":\n",
    "    print(\"Red Fort\")\n",
    "elif city == \"Agra\":\n",
    "    print(\"Taj Mahal\")\n",
    "elif city == \"Jaipur\":\n",
    "    print(\"Jal Mahal\")\n",
    "else:\n",
    "    print(\"You Have Not Entered City From The List Given.\")"
   ]
  },
  {
   "cell_type": "raw",
   "id": "f05d5cc4",
   "metadata": {},
   "source": [
    "Q4:Check how many times a given number can be divided by 3 before it is less than or equal to 10"
   ]
  },
  {
   "cell_type": "code",
   "execution_count": 18,
   "id": "db2e6d7e",
   "metadata": {},
   "outputs": [
    {
     "name": "stdout",
     "output_type": "stream",
     "text": [
      "Enter A Number Greater Than 10: 7\n",
      "0\n"
     ]
    }
   ],
   "source": [
    "n=int(input(\"Enter A Number Greater Than 10: \"))\n",
    "count=0\n",
    "while n>=10:\n",
    "    if n%3==0:\n",
    "        count=count+1\n",
    "    n=n-1\n",
    "print(count)"
   ]
  },
  {
   "cell_type": "raw",
   "id": "90d0e33b",
   "metadata": {},
   "source": [
    "Q5: Why and When to Use while Loop in Python give a detailed description with example."
   ]
  },
  {
   "cell_type": "markdown",
   "id": "51821283",
   "metadata": {},
   "source": [
    "A while loop can be used when the code requires a certain condition to meet. If the condition is True, the code written will work fine but it will keep running continuously. If the code is not written well to somehow end the condition, which means when the condition is not met and it is False, the loop will stop."
   ]
  },
  {
   "cell_type": "code",
   "execution_count": 19,
   "id": "1b25fc7a",
   "metadata": {},
   "outputs": [
    {
     "name": "stdout",
     "output_type": "stream",
     "text": [
      "Enter a number: 76\n",
      "Enter a number: 98\n",
      "Enter a number: 0\n",
      "Total = 174\n"
     ]
    }
   ],
   "source": [
    "total = 0\n",
    "number = int(input(\"Enter a number: \"))\n",
    "\n",
    "while number != 0:\n",
    "    total = total + number    \n",
    "    number = int(input(\"Enter a number: \"))\n",
    "\n",
    "print(\"Total =\", total)"
   ]
  },
  {
   "cell_type": "raw",
   "id": "8d04d15d",
   "metadata": {},
   "source": [
    "Q6:Use nested while loop to print 3 different pattern."
   ]
  },
  {
   "cell_type": "code",
   "execution_count": 20,
   "id": "d799388d",
   "metadata": {},
   "outputs": [
    {
     "name": "stdout",
     "output_type": "stream",
     "text": [
      "* \n",
      "* * \n",
      "* * * \n",
      "* * * * \n",
      "* * * * * \n"
     ]
    }
   ],
   "source": [
    "# right angle triangle\n",
    "\n",
    "i = 1\n",
    "while i <= 5:\n",
    "    j = 1\n",
    "    while j <= i:\n",
    "        print(\"* \", end=\"\")\n",
    "        j += 1\n",
    "    print(\"\")\n",
    "    i += 1"
   ]
  },
  {
   "cell_type": "code",
   "execution_count": 21,
   "id": "a640e0af",
   "metadata": {},
   "outputs": [
    {
     "name": "stdout",
     "output_type": "stream",
     "text": [
      "* * * * * \n",
      "  * * * * \n",
      "    * * * \n",
      "      * * \n",
      "        * \n"
     ]
    }
   ],
   "source": [
    "# inverse right angle triangle\n",
    "\n",
    "rows = 5\n",
    "i = rows\n",
    "while i >= 1:\n",
    "    j = rows\n",
    "    while j > i:\n",
    "        # display space\n",
    "        print(' ', end=' ')\n",
    "        j -= 1\n",
    "    k = 1\n",
    "    while k <= i:\n",
    "        print('*', end=' ')\n",
    "        k += 1\n",
    "    print()\n",
    "    i -= 1"
   ]
  },
  {
   "cell_type": "code",
   "execution_count": 22,
   "id": "17e64f3e",
   "metadata": {},
   "outputs": [
    {
     "name": "stdout",
     "output_type": "stream",
     "text": [
      "* * * * * * \n",
      "* * * * * * \n",
      "* * * * * * \n",
      "* * * * * * \n",
      "* * * * * * \n"
     ]
    }
   ],
   "source": [
    "# square pattern\n",
    "\n",
    "i=1\n",
    "while i<=5:\n",
    "    i+=1\n",
    "    j=0\n",
    "    while j<=5:\n",
    "        print(\"*\",end=\" \")\n",
    "        j+=1\n",
    "    print()"
   ]
  },
  {
   "cell_type": "raw",
   "id": "53090b2e",
   "metadata": {},
   "source": [
    "Q7:Reverse a while loop to display numbers from 10 to 1."
   ]
  },
  {
   "cell_type": "code",
   "execution_count": 23,
   "id": "44568a0f",
   "metadata": {},
   "outputs": [
    {
     "name": "stdout",
     "output_type": "stream",
     "text": [
      "10\n",
      "9\n",
      "8\n",
      "7\n",
      "6\n",
      "5\n",
      "4\n",
      "3\n",
      "2\n",
      "1\n"
     ]
    }
   ],
   "source": [
    "n=10\n",
    "\n",
    "while n!=0:\n",
    "    print(n)\n",
    "    n=n-1"
   ]
  },
  {
   "cell_type": "raw",
   "id": "69f0b3c8",
   "metadata": {},
   "source": [
    "Q8:Reverse a while loop to display numbers from 10 to 1."
   ]
  },
  {
   "cell_type": "code",
   "execution_count": 24,
   "id": "df717a16",
   "metadata": {},
   "outputs": [
    {
     "name": "stdout",
     "output_type": "stream",
     "text": [
      "10\n",
      "9\n",
      "8\n",
      "7\n",
      "6\n",
      "5\n",
      "4\n",
      "3\n",
      "2\n",
      "1\n"
     ]
    }
   ],
   "source": [
    "n=10\n",
    "\n",
    "while n!=0:\n",
    "    print(n)\n",
    "    n=n-1"
   ]
  }
 ],
 "metadata": {
  "kernelspec": {
   "display_name": "Python 3 (ipykernel)",
   "language": "python",
   "name": "python3"
  },
  "language_info": {
   "codemirror_mode": {
    "name": "ipython",
    "version": 3
   },
   "file_extension": ".py",
   "mimetype": "text/x-python",
   "name": "python",
   "nbconvert_exporter": "python",
   "pygments_lexer": "ipython3",
   "version": "3.9.13"
  }
 },
 "nbformat": 4,
 "nbformat_minor": 5
}

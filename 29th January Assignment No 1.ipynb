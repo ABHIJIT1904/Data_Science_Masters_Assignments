{
 "cells": [
  {
   "cell_type": "markdown",
   "id": "6385d1d7-3c37-49ea-af4d-a44fedb296cb",
   "metadata": {},
   "source": [
    "29th Date Assignment"
   ]
  },
  {
   "cell_type": "markdown",
   "id": "4d8e6bbd",
   "metadata": {},
   "source": [
    "Q1 : \n",
    "    Guido Van Rossum in 1970"
   ]
  },
  {
   "cell_type": "markdown",
   "id": "ea68a6b3",
   "metadata": {},
   "source": [
    "Q2 :\n",
    "    Python is an interpreted programming language, supporting object-oriented, structured, and functional programming."
   ]
  },
  {
   "cell_type": "markdown",
   "id": "12e4e972",
   "metadata": {},
   "source": [
    "Q3 :\n",
    "    Yes , Python is a case-sensitive language. This means, Variable and variable are not the same. Always give the identifiers a name that makes sense."
   ]
  },
  {
   "cell_type": "markdown",
   "id": "ff692290",
   "metadata": {},
   "source": [
    "Q4 : \n",
    "    .py is the correct extension of the Python file."
   ]
  },
  {
   "cell_type": "markdown",
   "id": "bffd5bfa",
   "metadata": {},
   "source": [
    "Q5 :\n",
    "    Python is both compiled as well as an interpreted language, which means when we run a python code, it is first compiled and then interpreted line by line."
   ]
  },
  {
   "cell_type": "markdown",
   "id": "caca95ae",
   "metadata": {},
   "source": [
    "Q6 : \n",
    "    A module , fuction body , a class this are some blocks which are used to define in python programming."
   ]
  },
  {
   "cell_type": "markdown",
   "id": "bb18e6e4",
   "metadata": {},
   "source": [
    "Q7 :\n",
    "    # is used for single line comment."
   ]
  },
  {
   "cell_type": "markdown",
   "id": "efafc7f7",
   "metadata": {},
   "source": [
    "Q8 :\n",
    "    python_version() function is used to find the version in python."
   ]
  },
  {
   "cell_type": "markdown",
   "id": "ba43971b",
   "metadata": {},
   "source": [
    "Q9 :\n",
    "    Lambda"
   ]
  },
  {
   "cell_type": "markdown",
   "id": "c5410f40",
   "metadata": {},
   "source": [
    "Q10 :\n",
    "    pip stands for Preferred Installer Program."
   ]
  },
  {
   "cell_type": "markdown",
   "id": "720f70cf",
   "metadata": {},
   "source": [
    "Q11 :\n",
    "    print() , len() , range() , list() are some built-in function in python."
   ]
  },
  {
   "cell_type": "markdown",
   "id": "b84a5570",
   "metadata": {},
   "source": [
    "Q12 :\n",
    "    79 character is the maximum length of an identifier."
   ]
  },
  {
   "cell_type": "markdown",
   "id": "7879a784",
   "metadata": {},
   "source": [
    "Q13 :\n",
    "    Easy to use , huge library , free and open source."
   ]
  },
  {
   "cell_type": "markdown",
   "id": "0c7ea81c",
   "metadata": {},
   "source": [
    "Q14 :\n",
    "    Memory in Python is managed by Python private heap space. All Python objects and data structures are located in a private heap"
   ]
  },
  {
   "cell_type": "markdown",
   "id": "d314115b",
   "metadata": {},
   "source": [
    "Q15 :\n",
    "    In the section entitled User Variables, double-click on the entry that says Path. Another window will pop up showing a list of paths. Click the New button and paste the path to your Python executable there. Once that's inserted, select your newly added path and click the Move Up button until it's at the top."
   ]
  },
  {
   "cell_type": "markdown",
   "id": "933a4951",
   "metadata": {},
   "source": [
    "Q16 :\n",
    "    Yes ,the identification in python is very important."
   ]
  }
 ],
 "metadata": {
  "kernelspec": {
   "display_name": "Python 3 (ipykernel)",
   "language": "python",
   "name": "python3"
  },
  "language_info": {
   "codemirror_mode": {
    "name": "ipython",
    "version": 3
   },
   "file_extension": ".py",
   "mimetype": "text/x-python",
   "name": "python",
   "nbconvert_exporter": "python",
   "pygments_lexer": "ipython3",
   "version": "3.9.13"
  }
 },
 "nbformat": 4,
 "nbformat_minor": 5
}
